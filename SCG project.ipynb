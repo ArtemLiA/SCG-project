{
 "cells": [
  {
   "cell_type": "code",
   "execution_count": 1,
   "id": "1eda62d1",
   "metadata": {},
   "outputs": [],
   "source": [
    "import numpy as np\n",
    "import msprime\n",
    "from IPython.display import SVG, display\n",
    "import tskit\n",
    "import matplotlib.pyplot as plt"
   ]
  },
  {
   "cell_type": "code",
   "execution_count": 93,
   "id": "352d201e",
   "metadata": {},
   "outputs": [
    {
     "data": {
      "text/html": [
       "\n",
       "            <div>\n",
       "              <style>\n",
       "                .tskit-table thead tr th {text-align: left;padding: 0.5em 0.5em;}\n",
       "                .tskit-table tbody tr td {padding: 0.5em 0.5em;}\n",
       "                .tskit-table tbody tr td:first-of-type {text-align: left;}\n",
       "                .tskit-details-label {vertical-align: top; padding-right:5px;}\n",
       "                .tskit-table-set {display: inline-flex;flex-wrap: wrap;margin: -12px 0 0 -12px;width: calc(100% + 12px);}\n",
       "                .tskit-table-set-table {margin: 12px 0 0 12px;}\n",
       "                details {display: inline-block;}\n",
       "                summary {cursor: pointer; outline: 0; display: list-item;}\n",
       "              </style>\n",
       "              <div class=\"tskit-table-set\">\n",
       "                <div class=\"tskit-table-set-table\">\n",
       "                  <table class=\"tskit-table\">\n",
       "                    <thead>\n",
       "                      <tr>\n",
       "                        <th style=\"padding:0;line-height:21px;\">\n",
       "                          <img style=\"height: 32px;display: inline-block;padding: 3px 5px 3px 0;\" src=\"https://raw.githubusercontent.com/tskit-dev/administrative/main/tskit_logo.svg\"/>\n",
       "                          <a target=\"_blank\" href=\"https://tskit.dev/tskit/docs/latest/python-api.html#the-treesequence-class\"> Tree Sequence </a>\n",
       "                        </th>\n",
       "                      </tr>\n",
       "                    </thead>\n",
       "                    <tbody>\n",
       "                      <tr><td>Trees</td><td>1</td></tr>\n",
       "                      <tr><td>Sequence Length</td><td>1.0</td></tr>\n",
       "                      <tr><td>Time Units</td><td>generations</td></tr>\n",
       "                      <tr><td>Sample Nodes</td><td>2</td></tr>\n",
       "                      <tr><td>Total Size</td><td>2.3 KiB</td></tr>\n",
       "                      <tr>\n",
       "                        <td>Metadata</td><td style=\"text-align: left;\">No Metadata</td></tr>\n",
       "                    </tbody>\n",
       "                  </table>\n",
       "                </div>\n",
       "                <div class=\"tskit-table-set-table\">\n",
       "                  <table class=\"tskit-table\">\n",
       "                    <thead>\n",
       "                      <tr>\n",
       "                        <th style=\"line-height:21px;\">Table</th>\n",
       "                        <th>Rows</th>\n",
       "                        <th>Size</th>\n",
       "                        <th>Has Metadata</th>\n",
       "                      </tr>\n",
       "                    </thead>\n",
       "                    <tbody>\n",
       "                    \n",
       "                  <tr>\n",
       "                    <td>Edges</td>\n",
       "                      <td>2</td>\n",
       "                      <td>72 Bytes</td>\n",
       "                      <td style=\"text-align: center;\">\n",
       "                        \n",
       "                      </td>\n",
       "                    </tr>\n",
       "                \n",
       "                  <tr>\n",
       "                    <td>Individuals</td>\n",
       "                      <td>1</td>\n",
       "                      <td>52 Bytes</td>\n",
       "                      <td style=\"text-align: center;\">\n",
       "                        \n",
       "                      </td>\n",
       "                    </tr>\n",
       "                \n",
       "                  <tr>\n",
       "                    <td>Migrations</td>\n",
       "                      <td>0</td>\n",
       "                      <td>8 Bytes</td>\n",
       "                      <td style=\"text-align: center;\">\n",
       "                        \n",
       "                      </td>\n",
       "                    </tr>\n",
       "                \n",
       "                  <tr>\n",
       "                    <td>Mutations</td>\n",
       "                      <td>0</td>\n",
       "                      <td>16 Bytes</td>\n",
       "                      <td style=\"text-align: center;\">\n",
       "                        \n",
       "                      </td>\n",
       "                    </tr>\n",
       "                \n",
       "                  <tr>\n",
       "                    <td>Nodes</td>\n",
       "                      <td>3</td>\n",
       "                      <td>92 Bytes</td>\n",
       "                      <td style=\"text-align: center;\">\n",
       "                        \n",
       "                      </td>\n",
       "                    </tr>\n",
       "                \n",
       "                  <tr>\n",
       "                    <td>Populations</td>\n",
       "                      <td>3</td>\n",
       "                      <td>294 Bytes</td>\n",
       "                      <td style=\"text-align: center;\">\n",
       "                        ✅\n",
       "                      </td>\n",
       "                    </tr>\n",
       "                \n",
       "                  <tr>\n",
       "                    <td>Provenances</td>\n",
       "                      <td>1</td>\n",
       "                      <td>1.7 KiB</td>\n",
       "                      <td style=\"text-align: center;\">\n",
       "                        \n",
       "                      </td>\n",
       "                    </tr>\n",
       "                \n",
       "                  <tr>\n",
       "                    <td>Sites</td>\n",
       "                      <td>0</td>\n",
       "                      <td>16 Bytes</td>\n",
       "                      <td style=\"text-align: center;\">\n",
       "                        \n",
       "                      </td>\n",
       "                    </tr>\n",
       "                \n",
       "                    </tbody>\n",
       "                  </table>\n",
       "                </div>\n",
       "              </div>\n",
       "            </div>\n",
       "            "
      ],
      "text/plain": [
       "<tskit.trees.TreeSequence at 0x2a862850610>"
      ]
     },
     "execution_count": 93,
     "metadata": {},
     "output_type": "execute_result"
    }
   ],
   "source": [
    "demography = msprime.Demography()\n",
    "demography.add_population(name='A', initial_size = 5_000)\n",
    "demography.add_population(name='B', initial_size = 5_000)\n",
    "demography.add_population(name='C', initial_size = 5_000)\n",
    "demography.add_population_parameters_change(time = 3700, initial_size = 0, growth_rate = 0, population = 'B')\n",
    "demography.add_symmetric_migration_rate_change(time = 3710, populations = ['A', 'B'], rate = 0.5)\n",
    "demography.add_population_split(time = 37037, derived=['A', 'B'], ancestral = 'C')\n",
    "demography.sort_events()\n",
    "demography.debug()\n",
    "ts = msprime.sim_ancestry(samples = {'A':1}, demography = demography, random_seed = 6)\n",
    "ts\n",
    "#SVG(ts.draw_svg()) для показа дерева"
   ]
  },
  {
   "cell_type": "code",
   "execution_count": 94,
   "id": "5c79f8de",
   "metadata": {},
   "outputs": [
    {
     "data": {
      "image/svg+xml": [
       "<svg xmlns=\"http://www.w3.org/2000/svg\" xmlns:ev=\"http://www.w3.org/2001/xml-events\" xmlns:xlink=\"http://www.w3.org/1999/xlink\" baseProfile=\"full\" height=\"200\" version=\"1.1\" width=\"200\"><defs><style type=\"text/css\"><![CDATA[.background path {fill: #808080; fill-opacity: 0}.background path:nth-child(odd) {fill-opacity: .1}.axes {font-size: 14px}.x-axis .tick .lab {font-weight: bold; dominant-baseline: hanging}.axes, .tree {font-size: 14px; text-anchor: middle}.axes line, .edge {stroke: black; fill: none}.y-axis .grid {stroke: #FAFAFA}.node > .sym {fill: black; stroke: none}.site > .sym {stroke: black}.mut text {fill: red; font-style: italic}.mut.extra text {fill: hotpink}.mut line {fill: none; stroke: none}.mut .sym {fill: none; stroke: red}.mut.extra .sym {stroke: hotpink}.node .mut .sym {stroke-width: 1.5px}.tree text, .tree-sequence text {dominant-baseline: central}.plotbox .lab.lft {text-anchor: end}.plotbox .lab.rgt {text-anchor: start}]]></style></defs><g class=\"tree-sequence\"><g class=\"background\"><path d=\"M20,0 l160,0 l0,138.2 l0,25 l0,5 l-160,0 l0,-5 l0,-25 l0,-138.2z\"/></g><g class=\"axes\"><g class=\"x-axis\"><g transform=\"translate(100 200)\"><text class=\"lab\" text-anchor=\"middle\" transform=\"translate(0 -11)\">Genome position</text></g><line x1=\"20\" x2=\"180\" y1=\"163.2\" y2=\"163.2\"/><g class=\"ticks\"><g class=\"tick\" transform=\"translate(20 163.2)\"><line x1=\"0\" x2=\"0\" y1=\"0\" y2=\"5\"/><g transform=\"translate(0 6)\"><text class=\"lab\">0</text></g></g><g class=\"tick\" transform=\"translate(180 163.2)\"><line x1=\"0\" x2=\"0\" y1=\"0\" y2=\"5\"/><g transform=\"translate(0 6)\"><text class=\"lab\">1</text></g></g></g></g></g><g class=\"plotbox trees\"><g class=\"tree t0\" transform=\"translate(20 0)\"><g class=\"plotbox\"><g class=\"c2 node n2 p1 root\" transform=\"translate(80 26.8)\"><g class=\"a2 i0 leaf node n0 p0 sample\" transform=\"translate(-30 94.6)\"><path class=\"edge\" d=\"M 0 0 V -94.6 H 30\"/><rect class=\"sym\" height=\"6\" width=\"6\" x=\"-3\" y=\"-3\"/><text class=\"lab\" transform=\"translate(0 11)\">0</text></g><g class=\"a2 i0 leaf node n1 p0 sample\" transform=\"translate(30 94.6)\"><path class=\"edge\" d=\"M 0 0 V -94.6 H -30\"/><rect class=\"sym\" height=\"6\" width=\"6\" x=\"-3\" y=\"-3\"/><text class=\"lab\" transform=\"translate(0 11)\">1</text></g><circle class=\"sym\" cx=\"0\" cy=\"0\" r=\"3\"/><text class=\"lab\" transform=\"translate(0 -11)\">2</text></g></g></g></g></g></svg>"
      ],
      "text/plain": [
       "<IPython.core.display.SVG object>"
      ]
     },
     "execution_count": 94,
     "metadata": {},
     "output_type": "execute_result"
    }
   ],
   "source": [
    "SVG(ts.draw_svg())"
   ]
  },
  {
   "cell_type": "code",
   "execution_count": 95,
   "id": "e7bbcd75",
   "metadata": {},
   "outputs": [
    {
     "name": "stdout",
     "output_type": "stream",
     "text": [
      "[3714.7313284    0.           0.       ]\n",
      "1\n"
     ]
    }
   ],
   "source": [
    "def num_of_lines(tree, time):\n",
    "    if tree.nodes_time[0] > time:\n",
    "        return np.where(tree.nodes_time == tree.nodes_time[0])[0].shape[0]\n",
    "    if time < 0:\n",
    "        return 0\n",
    "    return np.where(tree.nodes_time[::-1] > time)[0].shape[0] + 1\n",
    "\n",
    "\n",
    "print(ts.nodes_time[::-1])\n",
    "print(num_of_lines(ts, 38000))"
   ]
  },
  {
   "cell_type": "code",
   "execution_count": 96,
   "id": "a4b4879d",
   "metadata": {},
   "outputs": [],
   "source": [
    "vec_num_of_lines = np.vectorize(num_of_lines)"
   ]
  },
  {
   "cell_type": "code",
   "execution_count": 97,
   "id": "404b0d1c",
   "metadata": {},
   "outputs": [],
   "source": [
    "list_of_trees = []\n",
    "for i in range(1, 501):\n",
    "    list_of_trees.append(msprime.sim_ancestry(samples = {'A':1}, demography = demography, random_seed = i ** 2))"
   ]
  },
  {
   "cell_type": "code",
   "execution_count": 98,
   "id": "13c5c764",
   "metadata": {},
   "outputs": [],
   "source": [
    "def lines_in_trees(trees, time_data):\n",
    "    num_values = []\n",
    "    number = 0\n",
    "    for time in time_data:\n",
    "        for tree_ in trees:\n",
    "            number += num_of_lines(tree_, time)\n",
    "        num_values.append(number)\n",
    "        number = 0\n",
    "    return num_values"
   ]
  },
  {
   "cell_type": "code",
   "execution_count": 102,
   "id": "26855787",
   "metadata": {},
   "outputs": [],
   "source": [
    "time_values = np.linspace(0,40000,1100, endpoint = True)\n",
    "values = np.array(lines_in_trees(list_of_trees, time_values), dtype = 'int32')"
   ]
  },
  {
   "cell_type": "code",
   "execution_count": 103,
   "id": "b80b6375",
   "metadata": {},
   "outputs": [
    {
     "name": "stdout",
     "output_type": "stream",
     "text": [
      "[[1000 1000  999 ...  925  923  922]\n",
      " [ 920  919  918 ...  848  848  846]\n",
      " [ 846  845  695 ...  500  500  500]\n",
      " ...\n",
      " [ 500  500  500 ...  500  500  500]\n",
      " [ 500  500  500 ...  500  500  500]\n",
      " [ 500  500  500 ...  500  500  500]]\n"
     ]
    }
   ],
   "source": [
    "print(values.reshape((22, 50)))"
   ]
  },
  {
   "cell_type": "code",
   "execution_count": 104,
   "id": "5cec397e",
   "metadata": {},
   "outputs": [
    {
     "data": {
      "text/plain": [
       "[<matplotlib.lines.Line2D at 0x2a866436e50>]"
      ]
     },
     "execution_count": 104,
     "metadata": {},
     "output_type": "execute_result"
    },
    {
     "data": {
      "image/png": "[encoded data removed]",
      "text/plain": [
       "<Figure size 432x288 with 1 Axes>"
      ]
     },
     "metadata": {
      "needs_background": "light"
     },
     "output_type": "display_data"
    }
   ],
   "source": [
    "plt.plot(time_values, values, 'r--')"
   ]
  },
  {
   "cell_type": "code",
   "execution_count": 105,
   "id": "21514e65",
   "metadata": {},
   "outputs": [
    {
     "data": {
      "text/plain": [
       "'C:\\\\Users\\\\lyaho'"
      ]
     },
     "execution_count": 105,
     "metadata": {},
     "output_type": "execute_result"
    }
   ],
   "source": [
    "import os\n",
    "cwd = os.getcwd()\n",
    "cwd"
   ]
  },
  {
   "cell_type": "code",
   "execution_count": null,
   "id": "9ce2f6e9",
   "metadata": {},
   "outputs": [],
   "source": []
  }
 ],
 "metadata": {
  "kernelspec": {
   "display_name": "Python 3 (ipykernel)",
   "language": "python",
   "name": "python3"
  },
  "language_info": {
   "codemirror_mode": {
    "name": "ipython",
    "version": 3
   },
   "file_extension": ".py",
   "mimetype": "text/x-python",
   "name": "python",
   "nbconvert_exporter": "python",
   "pygments_lexer": "ipython3",
   "version": "3.9.7"
  }
 },
 "nbformat": 4,
 "nbformat_minor": 5
}
